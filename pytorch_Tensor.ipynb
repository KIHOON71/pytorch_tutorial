{
  "nbformat": 4,
  "nbformat_minor": 0,
  "metadata": {
    "colab": {
      "name": "pytorch_Tensor.ipynb",
      "provenance": [],
      "authorship_tag": "ABX9TyObIUu5bZVXQ63VLh2Yjgx9",
      "include_colab_link": true
    },
    "kernelspec": {
      "name": "python3",
      "display_name": "Python 3"
    },
    "language_info": {
      "name": "python"
    },
    "accelerator": "GPU"
  },
  "cells": [
    {
      "cell_type": "markdown",
      "metadata": {
        "id": "view-in-github",
        "colab_type": "text"
      },
      "source": [
        "<a href=\"https://colab.research.google.com/github/KIHOON71/pytorch_tutorial/blob/main/pytorch_Tensor.ipynb\" target=\"_parent\"><img src=\"https://colab.research.google.com/assets/colab-badge.svg\" alt=\"Open In Colab\"/></a>"
      ]
    },
    {
      "cell_type": "markdown",
      "source": [
        "##Tensor Initializing\n",
        "\n",
        "- numpy array와 tensor의 차이점은 tensor는 gpu나 하드웨어 가속기에서 돌아갈 수 있다는 점이다.\n",
        "- tensor는 또한 optimizing 할 때 자동 미분될 수 있다. "
      ],
      "metadata": {
        "id": "eCn0SxhNaxnu"
      }
    },
    {
      "cell_type": "code",
      "source": [
        "import torch\n",
        "import numpy as np\n"
      ],
      "metadata": {
        "id": "3g8cGtONa20e"
      },
      "execution_count": null,
      "outputs": []
    },
    {
      "cell_type": "code",
      "source": [
        "device = 'cuda' if torch.cuda.is_available() else 'cpu'\n",
        "my_tensor = torch.tensor([[1,2,3],[4,5,6]], dtype=torch.float32, device=device, requires_grad=True)\n",
        "\n",
        "print(my_tensor)\n",
        "print(my_tensor.dtype)\n",
        "print(my_tensor.device)\n",
        "print(my_tensor.shape)\n",
        "print(my_tensor.requires_grad)"
      ],
      "metadata": {
        "colab": {
          "base_uri": "https://localhost:8080/"
        },
        "id": "ot6MouUUa4Yv",
        "outputId": "02d1b1d0-6e1b-48fa-eacb-b30f9e6074cf"
      },
      "execution_count": null,
      "outputs": [
        {
          "output_type": "stream",
          "name": "stdout",
          "text": [
            "tensor([[1., 2., 3.],\n",
            "        [4., 5., 6.]], device='cuda:0', requires_grad=True)\n",
            "torch.float32\n",
            "cuda:0\n",
            "torch.Size([2, 3])\n",
            "True\n"
          ]
        }
      ]
    },
    {
      "cell_type": "code",
      "source": [
        "x = torch.empty(size=(3,3))\n",
        "print(x)\n",
        "x1 = torch.zeros((3,3))\n",
        "print(x1)\n",
        "x2 = torch.rand((3,3))\n",
        "print(x2)\n",
        "\n",
        "x3 = torch.ones((3,3))\n",
        "print(x3)\n",
        "\n",
        "x4 = torch.eye(5,5) # identical tensor 반환\n",
        "print(x4)\n",
        "\n",
        "x5 = torch.arange(start=0, end=5, step=1)\n",
        "print(x5)\n",
        "\n",
        "x6 = torch.linspace(start=0.1, end=1, steps=10)\n",
        "print(x6)\n",
        "\n",
        "#normal_ 함수를 통해 평균과 편차를 조정하여 가우시안 분포를 만들어낼 수 있다\n",
        "x7 = torch.empty(size=(1,5)).normal_(mean=0, std=1) \n",
        "print(x7)\n",
        "\n",
        "#torch.rand와 비슷한 방식\n",
        "x8 = torch.empty(size=(1,5)).uniform_(0, 1)\n",
        "print(x8)\n",
        "\n",
        "#torch.eye와 비슷하게 identical matrix를 생성 가능\n",
        "x9 = torch.diag(torch.ones(3))\n",
        "print(x9)"
      ],
      "metadata": {
        "colab": {
          "base_uri": "https://localhost:8080/"
        },
        "id": "_A91shA_cs8W",
        "outputId": "02a949b5-4fc4-4e78-e94e-529b1df21ae2"
      },
      "execution_count": null,
      "outputs": [
        {
          "output_type": "stream",
          "name": "stdout",
          "text": [
            "tensor([[-1.4707e-05,  3.0859e-41,  3.3631e-44],\n",
            "        [ 0.0000e+00,         nan,  3.0859e-41],\n",
            "        [ 1.1578e+27,  1.1362e+30,  7.1547e+22]])\n",
            "tensor([[0., 0., 0.],\n",
            "        [0., 0., 0.],\n",
            "        [0., 0., 0.]])\n",
            "tensor([[0.8466, 0.0302, 0.9789],\n",
            "        [0.4195, 0.1151, 0.0507],\n",
            "        [0.0596, 0.9918, 0.2364]])\n",
            "tensor([[1., 1., 1.],\n",
            "        [1., 1., 1.],\n",
            "        [1., 1., 1.]])\n",
            "tensor([[1., 0., 0., 0., 0.],\n",
            "        [0., 1., 0., 0., 0.],\n",
            "        [0., 0., 1., 0., 0.],\n",
            "        [0., 0., 0., 1., 0.],\n",
            "        [0., 0., 0., 0., 1.]])\n",
            "tensor([0, 1, 2, 3, 4])\n",
            "tensor([0.1000, 0.2000, 0.3000, 0.4000, 0.5000, 0.6000, 0.7000, 0.8000, 0.9000,\n",
            "        1.0000])\n",
            "tensor([[-0.3913,  0.7070, -0.4190, -1.6684,  0.7815]])\n",
            "tensor([[0.8116, 0.6493, 0.7149, 0.4630, 0.6862]])\n",
            "tensor([[1., 0., 0.],\n",
            "        [0., 1., 0.],\n",
            "        [0., 0., 1.]])\n"
          ]
        }
      ]
    },
    {
      "cell_type": "markdown",
      "source": [
        "### Tensor Type Convert"
      ],
      "metadata": {
        "id": "tXGEwRrUfeR0"
      }
    },
    {
      "cell_type": "code",
      "source": [
        "t = torch.arange(4)\n",
        "print(t.bool()) # boolean 타입으로 변환\n",
        "print(t.short())\n",
        "print(t.long())\n",
        "print(t.half())\n",
        "print(t.float())\n",
        "print(t.double())"
      ],
      "metadata": {
        "colab": {
          "base_uri": "https://localhost:8080/"
        },
        "id": "RS6CJkDzfdJ2",
        "outputId": "56bf40b2-68ed-4740-9b6e-1529dea97c0c"
      },
      "execution_count": null,
      "outputs": [
        {
          "output_type": "stream",
          "name": "stdout",
          "text": [
            "tensor([False,  True,  True,  True])\n",
            "tensor([0, 1, 2, 3], dtype=torch.int16)\n",
            "tensor([0, 1, 2, 3])\n",
            "tensor([0., 1., 2., 3.], dtype=torch.float16)\n",
            "tensor([0., 1., 2., 3.])\n",
            "tensor([0., 1., 2., 3.], dtype=torch.float64)\n"
          ]
        }
      ]
    },
    {
      "cell_type": "markdown",
      "source": [
        "## Numpy to Tensor"
      ],
      "metadata": {
        "id": "ARKtTCS-jrDi"
      }
    },
    {
      "cell_type": "code",
      "source": [
        "np_array = np.zeros((5,5))\n",
        "t = torch.from_numpy(np_array)\n",
        "print(t)\n",
        "np_b = t.numpy()\n",
        "print(np_b)"
      ],
      "metadata": {
        "colab": {
          "base_uri": "https://localhost:8080/"
        },
        "id": "uq4P8MukjuUZ",
        "outputId": "f2ca1007-8419-4f4d-f416-c9688778df50"
      },
      "execution_count": null,
      "outputs": [
        {
          "output_type": "stream",
          "name": "stdout",
          "text": [
            "tensor([[0., 0., 0., 0., 0.],\n",
            "        [0., 0., 0., 0., 0.],\n",
            "        [0., 0., 0., 0., 0.],\n",
            "        [0., 0., 0., 0., 0.],\n",
            "        [0., 0., 0., 0., 0.]], dtype=torch.float64)\n",
            "[[0. 0. 0. 0. 0.]\n",
            " [0. 0. 0. 0. 0.]\n",
            " [0. 0. 0. 0. 0.]\n",
            " [0. 0. 0. 0. 0.]\n",
            " [0. 0. 0. 0. 0.]]\n"
          ]
        }
      ]
    },
    {
      "cell_type": "markdown",
      "source": [
        "## Tensor Operations"
      ],
      "metadata": {
        "id": "pdmIa1V4kIx5"
      }
    },
    {
      "cell_type": "code",
      "source": [
        "#add\n",
        "x = torch.tensor([1,2,3])\n",
        "y = torch.tensor([9,8,7])\n",
        "\n",
        "z1 = torch.empty(3)\n",
        "torch.add(x,y, out=z1)\n",
        "print(z1)\n",
        "\n",
        "z2 = torch.add(x,y)\n",
        "print(z2)\n",
        "\n",
        "z = x + y\n",
        "print(z)"
      ],
      "metadata": {
        "colab": {
          "base_uri": "https://localhost:8080/"
        },
        "id": "gwf2064QkL2g",
        "outputId": "1fca471d-1928-40b3-ab5b-00422caaebf9"
      },
      "execution_count": null,
      "outputs": [
        {
          "output_type": "stream",
          "name": "stdout",
          "text": [
            "tensor([10., 10., 10.])\n",
            "tensor([10, 10, 10])\n",
            "tensor([10, 10, 10])\n"
          ]
        }
      ]
    },
    {
      "cell_type": "code",
      "source": [
        "#subtraction\n",
        "\n",
        "z = x - y \n",
        "print(z)\n",
        "\n",
        "#Division\n",
        "z = torch.true_divide(x,y)\n",
        "print(z) \n",
        "\n",
        "# inplace operation\n",
        "t = torch.zeros(3)\n",
        "t.add_(x)\n",
        "print(t)\n",
        "\n",
        "# Exponentiation\n",
        "z = x.pow(2)\n",
        "# z = x ** 2\n",
        "print(z)\n",
        "\n",
        "#simple comparison\n",
        "z = x > 2\n",
        "print(z)\n",
        "\n",
        "#Matrix Multiplication\n",
        "\n",
        "x1 = torch.rand((2,5))\n",
        "x2 = torch. rand((5,3))\n",
        "x3 = torch.mm(x1, x2)\n",
        "#x3 = x1.mm(x2)\n",
        "print(x1)\n",
        "print(x2)\n",
        "print(x3)\n",
        "\n",
        "#Matrix exponentiation\n",
        "matrix_exp = torch.rand(5,5)\n",
        "print(matrix_exp)\n",
        "print(matrix_exp.matrix_power(3))\n",
        "\n",
        "#elementwise mul\n",
        "z = x * y\n",
        "print(x, y , '\\n', z)\n",
        "\n",
        "#dot product\n",
        "z = torch.dot(x, y)\n",
        "print(z)\n",
        "\n",
        "#batch Matrix Multiplication\n",
        "batch = 32\n",
        "n = 10\n",
        "m = 20\n",
        "p = 30\n",
        "\n",
        "tensor1 = torch.rand((batch, n, m))\n",
        "tensor2 = torch.rand((batch, m, p))\n",
        "out = torch.bmm(tensor1, tensor2)\n",
        "print(out.shape)\n",
        "\n",
        "#example of Brodcatsting\n",
        "x1 = torch.rand((5,5))\n",
        "x2 = torch.rand((1,5))\n",
        "z = x1 - x2\n",
        "z2 = x1 ** x2\n",
        "print(z)\n",
        "print(z2)\n",
        "\n",
        "#other operation\n",
        "sum_x =torch.sum(x, dim=0) # 어떤 축을 따라 sum을 할 것인지\n",
        "print(sum_x)\n",
        "values, indices = torch.max(x, dim=0) # 크기와 위치 반환\n",
        "print(values, indices)\n",
        "values, indices = torch.min(x, dim=0)\n",
        "print(values, indices)\n",
        "abs_x = torch.abs(x)\n",
        "print(abs_x)\n",
        "z = torch.argmax(x, dim=0) # 위치만 반환\n",
        "print(z)\n",
        "z = torch.eq(x,y) # 같은 위치의 원소들이 같은지 체크하고 같으면 그 위치에 True, 다르면 False 반환\n",
        "print(z)\n",
        "\n",
        "torch.sort(y, dim=0, descending=False)\n",
        "print(y)\n",
        "\n",
        "z = torch.clamp(x, max=10) # x의 모든 원소가 0보다 작거나 같은지 확인\n",
        "print(z)\n",
        "\n",
        "xx = torch.tensor([1,0,1,1], dtype=torch.bool)\n",
        "z3 = torch.any(xx)\n",
        "print(z3)\n",
        "zz = torch.all(xx)\n",
        "print(zz)\n",
        "\n",
        "\n",
        "\n"
      ],
      "metadata": {
        "colab": {
          "base_uri": "https://localhost:8080/"
        },
        "id": "oQVPyVHtkjEL",
        "outputId": "b6529e97-3723-45cb-b7fa-c0e3aed74038"
      },
      "execution_count": null,
      "outputs": [
        {
          "output_type": "stream",
          "name": "stdout",
          "text": [
            "tensor([-8, -6, -4])\n",
            "tensor([0.1111, 0.2500, 0.4286])\n",
            "tensor([1., 2., 3.])\n",
            "tensor([1, 4, 9])\n",
            "tensor([False, False,  True])\n",
            "tensor([[0.3919, 0.0253, 0.2571, 0.1020, 0.6831],\n",
            "        [0.0015, 0.3732, 0.1328, 0.7789, 0.1631]])\n",
            "tensor([[0.5588, 0.4989, 0.3835],\n",
            "        [0.3845, 0.7182, 0.7995],\n",
            "        [0.8960, 0.9468, 0.4033],\n",
            "        [0.1345, 0.9282, 0.5860],\n",
            "        [0.2255, 0.9387, 0.1310]])\n",
            "tensor([[0.6268, 1.1930, 0.4235],\n",
            "        [0.4048, 1.2706, 0.8303]])\n",
            "tensor([[0.5120, 0.1842, 0.3644, 0.4598, 0.7507],\n",
            "        [0.9091, 0.8122, 0.2881, 0.7905, 0.5596],\n",
            "        [0.4531, 0.8259, 0.6250, 0.1878, 0.8349],\n",
            "        [0.3842, 0.1911, 0.8885, 0.4972, 0.9542],\n",
            "        [0.1665, 0.4735, 0.6286, 0.1731, 0.7314]])\n",
            "tensor([[2.5745, 3.0778, 3.2901, 2.1560, 4.4234],\n",
            "        [4.0872, 4.5177, 5.2046, 3.5418, 7.0196],\n",
            "        [3.7955, 4.1145, 4.3666, 3.2739, 6.0082],\n",
            "        [3.4893, 4.1774, 4.2207, 2.8944, 5.7366],\n",
            "        [2.8148, 3.1570, 3.2003, 2.3870, 4.4088]])\n",
            "tensor([1, 2, 3]) tensor([9, 8, 7]) \n",
            " tensor([ 9, 16, 21])\n",
            "tensor(46)\n",
            "torch.Size([32, 10, 30])\n",
            "tensor([[-0.6133,  0.4296, -0.0451,  0.0299, -0.1864],\n",
            "        [-0.7600,  0.6679, -0.0694,  0.4726, -0.4274],\n",
            "        [-0.4480,  0.2155, -0.0858,  0.2136,  0.3465],\n",
            "        [-0.5925,  0.6444, -0.8743,  0.3580,  0.0615],\n",
            "        [-0.4831,  0.6851, -0.7490,  0.7859,  0.1655]])\n",
            "tensor([[0.3856, 0.9733, 0.9398, 0.9682, 0.5472],\n",
            "        [0.2388, 0.9876, 0.9158, 0.9927, 0.1551],\n",
            "        [0.5508, 0.9522, 0.8997, 0.9851, 0.9003],\n",
            "        [0.4064, 0.9864, 0.1136, 0.9900, 0.7384],\n",
            "        [0.5157, 0.9885, 0.2405, 0.9977, 0.8023]])\n",
            "tensor(6)\n",
            "tensor(3) tensor(2)\n",
            "tensor(1) tensor(0)\n",
            "tensor([1, 2, 3])\n",
            "tensor(2)\n",
            "tensor([False, False, False])\n",
            "tensor([9, 8, 7])\n",
            "tensor([1, 2, 3])\n",
            "tensor(True)\n",
            "tensor(False)\n"
          ]
        }
      ]
    },
    {
      "cell_type": "markdown",
      "source": [
        "##Indexing of Tensor"
      ],
      "metadata": {
        "id": "e-XVfF-V01jP"
      }
    },
    {
      "cell_type": "code",
      "source": [
        "batch_size = 10\n",
        "features = 25\n",
        "x = torch.rand((batch_size, features))\n",
        "\n",
        "print(x[0]) # x[0. :]\n",
        "print(x[0].shape)\n",
        "\n",
        "print(x[:, 0])\n",
        "print(x[:,0].shape)\n",
        "\n",
        "print(x[2, 0:10]) # 3번쨰 배치의 0번째부터 9까지의 인덱스의 feature들을 불러온다.\n",
        "\n",
        "# fancy 인덱싱\n",
        "\n",
        "x = torch.arange(10)\n",
        "indices = [2,5,8]\n",
        "\n",
        "print(x[indices])\n",
        "\n",
        "x = torch.rand((3,5))\n",
        "rows = torch.tensor([1,0])\n",
        "cols = torch.tensor([4,0])\n",
        "print(x)\n",
        "print(x[rows, cols])  # (1,4) 위치에 있는 값을 불러오고, (0,0) 위치에 있는 값을 불러온다.\n",
        "\n",
        "#more advanced indexing\n",
        "\n",
        "x = torch.arange(10)\n",
        "print(x[(x < 2 ) | (x > 8)])\n",
        "print(x[x.remainder(2) == 0]) # 2로 나웠을 때 0\n",
        "\n",
        "#useful operation\n",
        "\n",
        "print(torch.where(x > 5, x, x*2)) # 조건을 만족하면 x, 만족하지 못하면 x*2\n",
        "\n",
        "print(torch.tensor([0,0,1,2,2,3,4]).unique())\n",
        "print(x.ndimension()) # numpy.ndarray.ndim과 같음\n",
        "print(x.numel()) # 원소의 개수를 반환 해줌"
      ],
      "metadata": {
        "id": "XLhVZ2OY05l1",
        "colab": {
          "base_uri": "https://localhost:8080/"
        },
        "outputId": "4cf90aba-65c3-4331-9f21-3fd04108033e"
      },
      "execution_count": null,
      "outputs": [
        {
          "output_type": "stream",
          "name": "stdout",
          "text": [
            "tensor([0.1413, 0.0161, 0.0217, 0.2201, 0.7234, 0.9591, 0.1264, 0.0825, 0.6421,\n",
            "        0.0628, 0.9447, 0.8266, 0.3253, 0.4549, 0.1325, 0.3835, 0.7343, 0.5748,\n",
            "        0.8186, 0.3351, 0.1684, 0.3404, 0.8785, 0.0595, 0.5967])\n",
            "torch.Size([25])\n",
            "tensor([0.1413, 0.8301, 0.8789, 0.7912, 0.5873, 0.8515, 0.9949, 0.8133, 0.1507,\n",
            "        0.3242])\n",
            "torch.Size([10])\n",
            "tensor([0.8789, 0.2368, 0.5881, 0.2384, 0.3285, 0.4095, 0.3870, 0.3793, 0.2484,\n",
            "        0.9177])\n",
            "tensor([2, 5, 8])\n",
            "tensor([[0.7621, 0.3751, 0.1026, 0.0283, 0.2268],\n",
            "        [0.5530, 0.1575, 0.2088, 0.8732, 0.1521],\n",
            "        [0.1940, 0.5868, 0.5165, 0.0922, 0.3462]])\n",
            "tensor([0.1521, 0.7621])\n",
            "tensor([0, 1, 9])\n",
            "tensor([0, 2, 4, 6, 8])\n",
            "tensor([ 0,  2,  4,  6,  8, 10,  6,  7,  8,  9])\n",
            "tensor([0, 1, 2, 3, 4])\n",
            "1\n",
            "10\n"
          ]
        }
      ]
    },
    {
      "cell_type": "markdown",
      "source": [
        "## Tensor Reshaping"
      ],
      "metadata": {
        "id": "uBT2bGtxZLZj"
      }
    },
    {
      "cell_type": "code",
      "source": [
        "x = torch.arange(9)\n",
        "\n",
        "x_3x3 = x.view(3,3) # sometime dangerous, contiguous memory 방식\n",
        "\n",
        "print(x_3x3)\n",
        "x_3x3 = x.reshape(3,3) # safe, 값을 통째로 복사 하기 때문에 메모리적으로 손해\n",
        "print(x_3x3)\n",
        "\n",
        "# contiguous \n",
        "y = x_3x3.t()\n",
        "\n",
        "#print(y.view(9)) # it will make an error\n",
        "print(y.contiguous().view(9))\n",
        "\n",
        "\n",
        "x1 = torch.rand((2,5))\n",
        "x2 = torch.rand((2,5))\n",
        "\n",
        "print(torch.cat((x1, x2), dim=1).shape)\n",
        "print(torch.cat((x1, x2), dim=0).shape)\n",
        "\n",
        "\n",
        "z = x1.view(-1) # flatten -1\n",
        "print(z)\n",
        "\n",
        "batch = 64\n",
        "x = torch.rand((batch, 2, 5))\n",
        "z = x.view(batch, -1)\n",
        "print(z.shape)"
      ],
      "metadata": {
        "colab": {
          "base_uri": "https://localhost:8080/"
        },
        "id": "2i-VwbMCYVbP",
        "outputId": "3beb0b1e-ef5f-4fed-f51a-97be5c9a6047"
      },
      "execution_count": null,
      "outputs": [
        {
          "output_type": "stream",
          "name": "stdout",
          "text": [
            "tensor([[0, 1, 2],\n",
            "        [3, 4, 5],\n",
            "        [6, 7, 8]])\n",
            "tensor([[0, 1, 2],\n",
            "        [3, 4, 5],\n",
            "        [6, 7, 8]])\n",
            "tensor([0, 3, 6, 1, 4, 7, 2, 5, 8])\n",
            "torch.Size([2, 10])\n",
            "torch.Size([4, 5])\n",
            "tensor([0.9378, 0.0728, 0.3719, 0.4965, 0.2634, 0.0380, 0.6892, 0.0123, 0.8515,\n",
            "        0.8424])\n",
            "torch.Size([64, 10])\n"
          ]
        }
      ]
    }
  ]
}