{
  "nbformat": 4,
  "nbformat_minor": 0,
  "metadata": {
    "colab": {
      "name": "Untitled0.ipynb",
      "provenance": [],
      "authorship_tag": "ABX9TyPHss2w7T+GEXGXOuO0EmQS",
      "include_colab_link": true
    },
    "kernelspec": {
      "name": "python3",
      "display_name": "Python 3"
    },
    "language_info": {
      "name": "python"
    }
  },
  "cells": [
    {
      "cell_type": "markdown",
      "metadata": {
        "id": "view-in-github",
        "colab_type": "text"
      },
      "source": [
        "<a href=\"https://colab.research.google.com/github/KIHOON71/pytorch_tutorial/blob/main/pytorch_dataset_dataloader.ipynb\" target=\"_parent\"><img src=\"https://colab.research.google.com/assets/colab-badge.svg\" alt=\"Open In Colab\"/></a>"
      ]
    },
    {
      "cell_type": "markdown",
      "source": [
        "# Pytorch Datasets and Dastaloaders\n",
        "\n",
        "- 파이토치는 내장 되어 있는 데이터들이 있다. \n",
        "- torch.utils.data.DataLoader 와 torch.utils.data.Dataset에서 미리 내장되어 있는 데이터를 쓸 수 있다.\n",
        "\n",
        "\n",
        " ##### Dataset\n",
        " - sample과 그에 해당하는 라벨이 들어있음\n",
        "\n",
        "\n",
        " ##### Dataloader\n",
        " - 반복자로 dataset을 감싸고 있어서 dataset에 쉽게 접근 가능하게 해줌"
      ],
      "metadata": {
        "id": "UUqQx6d0M2PC"
      }
    },
    {
      "cell_type": "markdown",
      "source": [
        "## Loading a Dataset\n",
        "\n",
        "- dataset은 다음의 파라미터를 가지고 있다.\n",
        "\n",
        "1. **root** 는 데이터가 저장 되어 있는 패스이다.\n",
        "2. **train** 데이터가 테스트로 사용될 건지, 테스트로 사용될 건지이다.\n",
        "3. **download=True** 는 만약 root가 이용 불가능하면 인터넷에서 데이터를 다운받음\n",
        "4. **transform** 과 **target_transform**은 feature 와 label을 변환한다.\n"
      ],
      "metadata": {
        "id": "GDZabGkuWub8"
      }
    },
    {
      "cell_type": "code",
      "source": [
        "import torch\n",
        "from torch.utils.data import Dataset\n",
        "from torchvision import datasets\n",
        "from torchvision.transforms import ToTensor\n",
        "import matplotlib.pyplot as plt"
      ],
      "metadata": {
        "id": "XYKW9qC_RI1F"
      },
      "execution_count": 16,
      "outputs": []
    },
    {
      "cell_type": "code",
      "source": [
        "training_Data = datasets.FashionMNIST(\n",
        "    root='data',\n",
        "    train=True,\n",
        "    download=True,\n",
        "    transform=ToTensor()\n",
        ")\n",
        "\n",
        "test_data = datasets.FashionMNIST(\n",
        "    root='data',\n",
        "    train=False,\n",
        "    download=True,\n",
        "    transform=ToTensor()\n",
        ")"
      ],
      "metadata": {
        "id": "HEVTUH7ZYOFu"
      },
      "execution_count": 17,
      "outputs": []
    },
    {
      "cell_type": "markdown",
      "source": [
        "# Iterating and Visualizing the Dataset"
      ],
      "metadata": {
        "id": "k0ccXOmoZIZK"
      }
    },
    {
      "cell_type": "code",
      "source": [
        "labels_map = {\n",
        "    0:'T-Shirt',\n",
        "    1:\"Trouser\",\n",
        "    2:'Pullover',\n",
        "    3:'Dress',\n",
        "    4:'Coat',\n",
        "    5:'Sandal',\n",
        "    6:'Shirt',\n",
        "    7:'Sneaker',\n",
        "    8:'Bag',\n",
        "    9:'Ankle Boot'\n",
        "}\n",
        "\n",
        "figure = plt.figure(figsize=(3,3))\n",
        "\n",
        "cols, rows = 3,3\n",
        "\n",
        "for i in range(1, cols*rows+1):\n",
        "  sample_idx = torch.randint(len(training_Data), size=(1,)).item()\n",
        "  img, label = training_Data[sample_idx]\n",
        "  figure.add_subplot(rows, cols, i)\n",
        "  plt.title(labels_map[label])\n",
        "  plt.axis('off')\n",
        "  plt.imshow(img.squeeze(), cmap='gray')\n",
        "plt.show()\n"
      ],
      "metadata": {
        "colab": {
          "base_uri": "https://localhost:8080/",
          "height": 210
        },
        "id": "KWJG5g3FZIRi",
        "outputId": "29fb9ff7-5611-46e1-a80f-993fcf1c4199"
      },
      "execution_count": 18,
      "outputs": [
        {
          "output_type": "display_data",
          "data": {
            "image/png": "[encoded data removed]",
            "text/plain": [
              "<Figure size 216x216 with 9 Axes>"
            ]
          },
          "metadata": {
            "needs_background": "light"
          }
        }
      ]
    },
    {
      "cell_type": "markdown",
      "source": [
        "# Creating a Custom Dataset for own files\n",
        "\n",
        "- 커스텀 데이터 셋은 \\_\\_init\\_\\_, \\_\\_len\\_\\_, \\_\\_getitem\\_\\_ 이 있어야 한다. "
      ],
      "metadata": {
        "id": "BDqtR0JIan9D"
      }
    },
    {
      "cell_type": "code",
      "source": [
        "import os\n",
        "import pandas as pd\n",
        "from torchvision.io import read_image"
      ],
      "metadata": {
        "id": "pBLYAtQUZHpz"
      },
      "execution_count": 19,
      "outputs": []
    },
    {
      "cell_type": "code",
      "source": [
        "class CustomImageDataset(Dataset):\n",
        "  def __init__(self, annotations_file, img_dir, transform=None, target_transform=None):\n",
        "    self.img_labels = pd.read_csv(annotations_file)\n",
        "    self.img_dir = img_dir\n",
        "    self.transform = transform\n",
        "    self.target_transform = target_transform\n",
        "\n",
        "  def __len__(self):\n",
        "    return len(self.img_labels)\n",
        "\n",
        "  def __getitem__(self, idx):\n",
        "    img_path = os.path.join(self.img_dir, self.img_labels.ilco[idx, 0])\n",
        "    image = read_image(img_path)\n",
        "    label = self.img_labels.ilco[idx, 1]\n",
        "    if self.transform:\n",
        "      image = self.transform(image)\n",
        "    if self.target_transform:\n",
        "      label = self.target_transform(label)\n",
        "    return image, label\n"
      ],
      "metadata": {
        "id": "cF6WjyRBbJ2L"
      },
      "execution_count": 20,
      "outputs": []
    },
    {
      "cell_type": "markdown",
      "source": [
        "### \\_\\_init\\_\\_\n",
        "\n",
        "- \\_\\_init\\_\\_ 함수는 Dataset의 오브젝트가 생성될 때 함께 생성된다. \n",
        "- 초기화 할 때 이미지를 갖고 있는 디렉토리와, 어노테이션 파일, 그리고 transform들이 초기화 된다.\n",
        "\n",
        "### \\_\\_len\\_\\_\n",
        "\n",
        "- 데이터 셋의 샘플의 수를 반환\n",
        "\n",
        "### \\_\\_getitem\\_\\_\n",
        "\n",
        "- 인덱스가 주어졌을 때, 해당하는 인덱스의 이미지와 라벨을 반환하는 함수이다.\n",
        "  1. 먼저 이미지를 로드\n",
        "  2. transform 파라미터들이 true일 때 tensor로 변환\n",
        "  3. 반환\n"
      ],
      "metadata": {
        "id": "f_SSG6Ndc064"
      }
    },
    {
      "cell_type": "markdown",
      "source": [
        "# Preparing your data for training with DataLoaders\n",
        "\n",
        " - minibatch의 형태로 데이터를 통과시키고 싶기 때문에, dataloader를 사용한다.\n",
        " - epoch마다 다시 섞고 모델의 과적합을 방지하고 싶기 위해 사용한다."
      ],
      "metadata": {
        "id": "2V-6zTgJebSe"
      }
    },
    {
      "cell_type": "code",
      "source": [
        "from torch.utils.data import DataLoader\n",
        "\n",
        "train_dataloader = DataLoader(training_Data, batch_size=64, shuffle=True)\n",
        "test_dataloader = DataLoader(test_data, batch_size=64, shuffle=True)"
      ],
      "metadata": {
        "id": "DlBfUv-IeaI2"
      },
      "execution_count": 15,
      "outputs": []
    },
    {
      "cell_type": "code",
      "source": [
        "# iterate through the Dataloader\n",
        "\n",
        "train_features, train_labels = next(iter(train_dataloader))\n",
        "print(f'Feature batch shape : {train_features.size()}')\n",
        "print(f'Labels batch shape : {train_labels.size()}')\n",
        "\n",
        "img = train_features[0].squeeze()\n",
        "label = train_labels[0]\n",
        "plt.imshow(img, cmap='gray')\n",
        "plt.show()\n",
        "print(f'Label : {label}')\n"
      ],
      "metadata": {
        "colab": {
          "base_uri": "https://localhost:8080/",
          "height": 320
        },
        "id": "xL-7xqU7gOU6",
        "outputId": "cb2434b6-b997-4b94-8274-6c8ab089c04a"
      },
      "execution_count": 21,
      "outputs": [
        {
          "output_type": "stream",
          "name": "stdout",
          "text": [
            "Feature batch shape : torch.Size([64, 1, 28, 28])\n",
            "Labels batch shape : torch.Size([64])\n"
          ]
        },
        {
          "output_type": "display_data",
          "data": {
            "image/png": "[encoded data removed]",
            "text/plain": [
              "<Figure size 432x288 with 1 Axes>"
            ]
          },
          "metadata": {
            "needs_background": "light"
          }
        },
        {
          "output_type": "stream",
          "name": "stdout",
          "text": [
            "Label : 8\n"
          ]
        }
      ]
    }
  ]
}